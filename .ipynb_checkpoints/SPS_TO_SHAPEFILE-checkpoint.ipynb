{
 "cells": [
  {
   "cell_type": "code",
   "execution_count": 1,
   "metadata": {},
   "outputs": [
    {
     "name": "stdout",
     "output_type": "stream",
     "text": [
      "Where are the SPS files? Desktop\\SPS Test\\SPS\n"
     ]
    }
   ],
   "source": [
    "sps_path = input(\"Where are the SPS files? \")"
   ]
  },
  {
   "cell_type": "code",
   "execution_count": 2,
   "metadata": {},
   "outputs": [
    {
     "name": "stdout",
     "output_type": "stream",
     "text": [
      "Where are the RPS files? Desktop\\SPS Test\\RPS\n"
     ]
    }
   ],
   "source": [
    "rps_path = input(\"Where are the RPS files? \")"
   ]
  },
  {
   "cell_type": "code",
   "execution_count": 3,
   "metadata": {},
   "outputs": [
    {
     "name": "stdout",
     "output_type": "stream",
     "text": [
      "Where shall I put the output? Desktop\\SPS Test\n"
     ]
    }
   ],
   "source": [
    "output_path = input(\"Where shall I put the output? \")"
   ]
  },
  {
   "cell_type": "code",
   "execution_count": 4,
   "metadata": {},
   "outputs": [],
   "source": [
    "#Get the tools required\n",
    "import os\n",
    "import glob\n",
    "import pandas as pd\n",
    "import matplotlib.pyplot as plt\n",
    "\n",
    "from geopandas import GeoDataFrame\n",
    "from shapely.geometry import Point\n",
    "from shapely.geometry import LineString\n",
    "\n",
    "\n",
    "#Grab filenames\n",
    "sps_files = glob.glob(os.environ['USERPROFILE']+\"\\\\\"+sps_path+\"\\*.s01\")\n",
    "rps_files = glob.glob(os.environ['USERPROFILE']+\"\\\\\"+rps_path+\"\\*.r01\")\n"
   ]
  },
  {
   "cell_type": "code",
   "execution_count": 5,
   "metadata": {},
   "outputs": [
    {
     "data": {
      "text/html": [
       "<div>\n",
       "<style scoped>\n",
       "    .dataframe tbody tr th:only-of-type {\n",
       "        vertical-align: middle;\n",
       "    }\n",
       "\n",
       "    .dataframe tbody tr th {\n",
       "        vertical-align: top;\n",
       "    }\n",
       "\n",
       "    .dataframe thead th {\n",
       "        text-align: right;\n",
       "    }\n",
       "</style>\n",
       "<table border=\"1\" class=\"dataframe\">\n",
       "  <thead>\n",
       "    <tr style=\"text-align: right;\">\n",
       "      <th></th>\n",
       "      <th>Line Number</th>\n",
       "      <th>Shot Number</th>\n",
       "      <th>Attempt</th>\n",
       "      <th>Gun Depth</th>\n",
       "      <th>Num</th>\n",
       "      <th>Depth</th>\n",
       "      <th>Easting</th>\n",
       "      <th>Northing</th>\n",
       "      <th>Geodetic Height</th>\n",
       "      <th>Time</th>\n",
       "    </tr>\n",
       "  </thead>\n",
       "  <tbody>\n",
       "    <tr>\n",
       "      <th>130</th>\n",
       "      <td>S11779001</td>\n",
       "      <td>2143.00</td>\n",
       "      <td>1A1</td>\n",
       "      <td>4.0</td>\n",
       "      <td>0</td>\n",
       "      <td>128.3</td>\n",
       "      <td>466667.6</td>\n",
       "      <td>6567071.6</td>\n",
       "      <td>0.8</td>\n",
       "      <td>157015940.572000</td>\n",
       "    </tr>\n",
       "    <tr>\n",
       "      <th>131</th>\n",
       "      <td>S11779001</td>\n",
       "      <td>2142.00</td>\n",
       "      <td>1A2</td>\n",
       "      <td>4.0</td>\n",
       "      <td>0</td>\n",
       "      <td>128.7</td>\n",
       "      <td>466684.6</td>\n",
       "      <td>6567047.8</td>\n",
       "      <td>0.8</td>\n",
       "      <td>157015944.908000</td>\n",
       "    </tr>\n",
       "    <tr>\n",
       "      <th>132</th>\n",
       "      <td>S11779001</td>\n",
       "      <td>2141.00</td>\n",
       "      <td>1A1</td>\n",
       "      <td>4.0</td>\n",
       "      <td>0</td>\n",
       "      <td>128.1</td>\n",
       "      <td>466655.1</td>\n",
       "      <td>6567049.6</td>\n",
       "      <td>0.8</td>\n",
       "      <td>157015951.152000</td>\n",
       "    </tr>\n",
       "    <tr>\n",
       "      <th>133</th>\n",
       "      <td>S11779001</td>\n",
       "      <td>2140.00</td>\n",
       "      <td>1A2</td>\n",
       "      <td>4.0</td>\n",
       "      <td>0</td>\n",
       "      <td>128.8</td>\n",
       "      <td>466671.6</td>\n",
       "      <td>6567025.0</td>\n",
       "      <td>0.8</td>\n",
       "      <td>157015955.880000</td>\n",
       "    </tr>\n",
       "    <tr>\n",
       "      <th>134</th>\n",
       "      <td>S11779001</td>\n",
       "      <td>2139.00</td>\n",
       "      <td>1A1</td>\n",
       "      <td>4.0</td>\n",
       "      <td>0</td>\n",
       "      <td>127.8</td>\n",
       "      <td>466642.6</td>\n",
       "      <td>6567027.8</td>\n",
       "      <td>0.8</td>\n",
       "      <td>157020001.656000</td>\n",
       "    </tr>\n",
       "  </tbody>\n",
       "</table>\n",
       "</div>"
      ],
      "text/plain": [
       "    Line Number Shot Number Attempt Gun Depth Num  Depth   Easting   Northing  \\\n",
       "130   S11779001     2143.00     1A1       4.0   0  128.3  466667.6  6567071.6   \n",
       "131   S11779001     2142.00     1A2       4.0   0  128.7  466684.6  6567047.8   \n",
       "132   S11779001     2141.00     1A1       4.0   0  128.1  466655.1  6567049.6   \n",
       "133   S11779001     2140.00     1A2       4.0   0  128.8  466671.6  6567025.0   \n",
       "134   S11779001     2139.00     1A1       4.0   0  127.8  466642.6  6567027.8   \n",
       "\n",
       "    Geodetic Height              Time  \n",
       "130             0.8  157015940.572000  \n",
       "131             0.8  157015944.908000  \n",
       "132             0.8  157015951.152000  \n",
       "133             0.8  157015955.880000  \n",
       "134             0.8  157020001.656000  "
      ]
     },
     "execution_count": 5,
     "metadata": {},
     "output_type": "execute_result"
    }
   ],
   "source": [
    "#Set column widths for SPS\n",
    "colspecs=[[0,9], [14,21], [23,27], [31,34], [37,38], [41,46], [47,55],[55,65], [68,71], [71,87]]\n",
    "names=['Line Number', 'Shot Number', 'Attempt', 'Gun Depth', 'Num', 'Depth', 'Easting', 'Northing', 'Geodetic Height', 'Time']\n",
    "\n",
    "#Create a dataframe for the SPS\n",
    "all_sps = pd.DataFrame()\n",
    "\n",
    "for i in sps_files:\n",
    "    df = pd.read_fwf(i,colspecs=colspecs,names=names)\n",
    "    \n",
    "    df = df.loc[df[\"Line Number\"].str.startswith(\"S\")]\n",
    "    all_sps = all_sps.append(df) \n",
    "\n",
    "#Convert E/N/D to numbers    \n",
    "all_sps[\"Easting\"] = pd.to_numeric(all_sps[\"Easting\"])\n",
    "all_sps[\"Northing\"] = pd.to_numeric(all_sps[\"Northing\"])\n",
    "all_sps[\"Depth\"] = pd.to_numeric(all_sps[\"Depth\"])\n",
    "\n",
    "#Check\n",
    "all_sps.head()"
   ]
  },
  {
   "cell_type": "code",
   "execution_count": 6,
   "metadata": {},
   "outputs": [
    {
     "data": {
      "text/html": [
       "<div>\n",
       "<style scoped>\n",
       "    .dataframe tbody tr th:only-of-type {\n",
       "        vertical-align: middle;\n",
       "    }\n",
       "\n",
       "    .dataframe tbody tr th {\n",
       "        vertical-align: top;\n",
       "    }\n",
       "\n",
       "    .dataframe thead th {\n",
       "        text-align: right;\n",
       "    }\n",
       "</style>\n",
       "<table border=\"1\" class=\"dataframe\">\n",
       "  <thead>\n",
       "    <tr style=\"text-align: right;\">\n",
       "      <th></th>\n",
       "      <th>Line Number</th>\n",
       "      <th>GS Number</th>\n",
       "      <th>Easting</th>\n",
       "      <th>Northing</th>\n",
       "    </tr>\n",
       "  </thead>\n",
       "  <tbody>\n",
       "    <tr>\n",
       "      <th>0</th>\n",
       "      <td>RPO18201182501</td>\n",
       "      <td>14661</td>\n",
       "      <td>462943.28</td>\n",
       "      <td>6559449.38</td>\n",
       "    </tr>\n",
       "    <tr>\n",
       "      <th>1</th>\n",
       "      <td>RPO18201182501</td>\n",
       "      <td>14681</td>\n",
       "      <td>462955.28</td>\n",
       "      <td>6559471.38</td>\n",
       "    </tr>\n",
       "    <tr>\n",
       "      <th>2</th>\n",
       "      <td>RPO18201182501</td>\n",
       "      <td>14701</td>\n",
       "      <td>462968.28</td>\n",
       "      <td>6559493.38</td>\n",
       "    </tr>\n",
       "    <tr>\n",
       "      <th>3</th>\n",
       "      <td>RPO18201182501</td>\n",
       "      <td>14721</td>\n",
       "      <td>462980.28</td>\n",
       "      <td>6559514.38</td>\n",
       "    </tr>\n",
       "    <tr>\n",
       "      <th>4</th>\n",
       "      <td>RPO18201182501</td>\n",
       "      <td>14741</td>\n",
       "      <td>462993.28</td>\n",
       "      <td>6559536.38</td>\n",
       "    </tr>\n",
       "  </tbody>\n",
       "</table>\n",
       "</div>"
      ],
      "text/plain": [
       "      Line Number  GS Number    Easting    Northing\n",
       "0  RPO18201182501      14661  462943.28  6559449.38\n",
       "1  RPO18201182501      14681  462955.28  6559471.38\n",
       "2  RPO18201182501      14701  462968.28  6559493.38\n",
       "3  RPO18201182501      14721  462980.28  6559514.38\n",
       "4  RPO18201182501      14741  462993.28  6559536.38"
      ]
     },
     "execution_count": 6,
     "metadata": {},
     "output_type": "execute_result"
    }
   ],
   "source": [
    "#Set column widths for RPS\n",
    "colspecs=[[0,14], [21,26], [46,55], [55,66]]\n",
    "names=['Line Number', 'GS Number', 'Easting', 'Northing']\n",
    "\n",
    "#Create a dataframe for the RPS\n",
    "all_rps = pd.DataFrame()\n",
    "\n",
    "for i in rps_files:\n",
    "    df = pd.read_fwf(i,colspecs=colspecs,names=names)\n",
    "    \n",
    "    df = df.loc[df[\"Line Number\"].str.startswith(\"R\")]\n",
    "    all_rps = all_rps.append(df) \n",
    "\n",
    "#Convert E/N to numbers \n",
    "all_rps[\"Easting\"] = pd.to_numeric(all_rps[\"Easting\"])\n",
    "all_rps[\"Northing\"] = pd.to_numeric(all_rps[\"Northing\"])\n",
    "\n",
    "\n",
    "#Check\n",
    "all_rps.head()"
   ]
  },
  {
   "cell_type": "code",
   "execution_count": 7,
   "metadata": {},
   "outputs": [
    {
     "data": {
      "text/html": [
       "<div>\n",
       "<style scoped>\n",
       "    .dataframe tbody tr th:only-of-type {\n",
       "        vertical-align: middle;\n",
       "    }\n",
       "\n",
       "    .dataframe tbody tr th {\n",
       "        vertical-align: top;\n",
       "    }\n",
       "\n",
       "    .dataframe thead th {\n",
       "        text-align: right;\n",
       "    }\n",
       "</style>\n",
       "<table border=\"1\" class=\"dataframe\">\n",
       "  <thead>\n",
       "    <tr style=\"text-align: right;\">\n",
       "      <th></th>\n",
       "      <th>geometry</th>\n",
       "    </tr>\n",
       "    <tr>\n",
       "      <th>Line Number</th>\n",
       "      <th></th>\n",
       "    </tr>\n",
       "  </thead>\n",
       "  <tbody>\n",
       "    <tr>\n",
       "      <th>S11779001</th>\n",
       "      <td>LINESTRING (466667.6 6567071.6, 466684.6 65670...</td>\n",
       "    </tr>\n",
       "    <tr>\n",
       "      <th>S11783004</th>\n",
       "      <td>LINESTRING (466710.6 6567046.9, 466727.8 65670...</td>\n",
       "    </tr>\n",
       "    <tr>\n",
       "      <th>S11787045</th>\n",
       "      <td>LINESTRING (461273.1 6557542.4, 461302.6 65575...</td>\n",
       "    </tr>\n",
       "    <tr>\n",
       "      <th>S11791047</th>\n",
       "      <td>LINESTRING (461323.6 6557513.2, 461351.8 65575...</td>\n",
       "    </tr>\n",
       "    <tr>\n",
       "      <th>S11795048</th>\n",
       "      <td>LINESTRING (466833.7 6566975.9, 466850 6566951...</td>\n",
       "    </tr>\n",
       "  </tbody>\n",
       "</table>\n",
       "</div>"
      ],
      "text/plain": [
       "                                                      geometry\n",
       "Line Number                                                   \n",
       "S11779001    LINESTRING (466667.6 6567071.6, 466684.6 65670...\n",
       "S11783004    LINESTRING (466710.6 6567046.9, 466727.8 65670...\n",
       "S11787045    LINESTRING (461273.1 6557542.4, 461302.6 65575...\n",
       "S11791047    LINESTRING (461323.6 6557513.2, 461351.8 65575...\n",
       "S11795048    LINESTRING (466833.7 6566975.9, 466850 6566951..."
      ]
     },
     "execution_count": 7,
     "metadata": {},
     "output_type": "execute_result"
    }
   ],
   "source": [
    "#Create geometries for sps\n",
    "geometry = [Point(xy) for xy in zip(all_sps.Easting, all_sps.Northing)]\n",
    "crs = {'init': 'epsg:23031'}\n",
    "\n",
    "#Create points for sps\n",
    "all_sps_points = GeoDataFrame(all_sps, crs=crs, geometry=geometry)\n",
    "\n",
    "#Create lines for sps\n",
    "all_sps_lines = all_sps_points.groupby(['Line Number'])['geometry'].apply(lambda x: LineString(x.tolist()))\n",
    "all_sps_lines = GeoDataFrame(all_sps_lines, geometry='geometry')\n",
    "\n",
    "#Check\n",
    "all_sps_points.head()\n",
    "all_sps_lines.head()"
   ]
  },
  {
   "cell_type": "code",
   "execution_count": 8,
   "metadata": {},
   "outputs": [],
   "source": [
    "#Create shapefiles for sps\n",
    "all_sps_points.to_file(driver = 'ESRI Shapefile', filename= os.environ['USERPROFILE']+\"\\\\\"+output_path+\"\\\\result_SPS_points.shp\")\n",
    "all_sps_lines.to_file(driver = 'ESRI Shapefile', filename= os.environ['USERPROFILE']+\"\\\\\"+output_path+\"\\\\result_SPS_lines.shp\")"
   ]
  },
  {
   "cell_type": "code",
   "execution_count": 9,
   "metadata": {},
   "outputs": [
    {
     "data": {
      "text/html": [
       "<div>\n",
       "<style scoped>\n",
       "    .dataframe tbody tr th:only-of-type {\n",
       "        vertical-align: middle;\n",
       "    }\n",
       "\n",
       "    .dataframe tbody tr th {\n",
       "        vertical-align: top;\n",
       "    }\n",
       "\n",
       "    .dataframe thead th {\n",
       "        text-align: right;\n",
       "    }\n",
       "</style>\n",
       "<table border=\"1\" class=\"dataframe\">\n",
       "  <thead>\n",
       "    <tr style=\"text-align: right;\">\n",
       "      <th></th>\n",
       "      <th>geometry</th>\n",
       "    </tr>\n",
       "    <tr>\n",
       "      <th>Line Number</th>\n",
       "      <th></th>\n",
       "    </tr>\n",
       "  </thead>\n",
       "  <tbody>\n",
       "    <tr>\n",
       "      <th>RPO18201182501</th>\n",
       "      <td>LINESTRING (462943.28 6559449.38, 462955.28 65...</td>\n",
       "    </tr>\n",
       "    <tr>\n",
       "      <th>RPO18201185701</th>\n",
       "      <td>LINESTRING (463289.29 6559249.38, 463302.29 65...</td>\n",
       "    </tr>\n",
       "    <tr>\n",
       "      <th>RPO18201188901</th>\n",
       "      <td>LINESTRING (463635.89 6559049.68, 463648.39 65...</td>\n",
       "    </tr>\n",
       "    <tr>\n",
       "      <th>RPO18201192101</th>\n",
       "      <td>LINESTRING (463982.29 6558849.68, 463994.79 65...</td>\n",
       "    </tr>\n",
       "  </tbody>\n",
       "</table>\n",
       "</div>"
      ],
      "text/plain": [
       "                                                         geometry\n",
       "Line Number                                                      \n",
       "RPO18201182501  LINESTRING (462943.28 6559449.38, 462955.28 65...\n",
       "RPO18201185701  LINESTRING (463289.29 6559249.38, 463302.29 65...\n",
       "RPO18201188901  LINESTRING (463635.89 6559049.68, 463648.39 65...\n",
       "RPO18201192101  LINESTRING (463982.29 6558849.68, 463994.79 65..."
      ]
     },
     "execution_count": 9,
     "metadata": {},
     "output_type": "execute_result"
    }
   ],
   "source": [
    "#Create geometries for rps\n",
    "geometry = [Point(xy) for xy in zip(all_rps.Easting, all_rps.Northing)]\n",
    "crs = {'init': 'epsg:23031'}\n",
    "\n",
    "#Create points for rps\n",
    "all_rps_points = GeoDataFrame(all_rps, crs=crs, geometry=geometry)\n",
    "\n",
    "#Create lines for rps\n",
    "all_rps_lines = all_rps_points.groupby(['Line Number'])['geometry'].apply(lambda x: LineString(x.tolist()))\n",
    "all_rps_lines = GeoDataFrame(all_rps_lines, geometry='geometry')\n",
    "\n",
    "#Check\n",
    "all_rps_points.head()\n",
    "all_rps_lines.head()"
   ]
  },
  {
   "cell_type": "code",
   "execution_count": 11,
   "metadata": {},
   "outputs": [],
   "source": [
    "#Create shapefiles for rps\n",
    "all_rps_points.to_file(driver = 'ESRI Shapefile', filename= os.environ['USERPROFILE']+\"\\\\\"+output_path+\"\\\\result_RPS_points.shp\")\n",
    "all_rps_lines.to_file(driver = 'ESRI Shapefile', filename= os.environ['USERPROFILE']+\"\\\\\"+output_path+\"\\\\result_RPS_lines.shp\")"
   ]
  },
  {
   "cell_type": "code",
   "execution_count": null,
   "metadata": {},
   "outputs": [],
   "source": []
  }
 ],
 "metadata": {
  "kernelspec": {
   "display_name": "Python 3",
   "language": "python",
   "name": "python3"
  },
  "language_info": {
   "codemirror_mode": {
    "name": "ipython",
    "version": 3
   },
   "file_extension": ".py",
   "mimetype": "text/x-python",
   "name": "python",
   "nbconvert_exporter": "python",
   "pygments_lexer": "ipython3",
   "version": "3.6.6"
  }
 },
 "nbformat": 4,
 "nbformat_minor": 2
}
